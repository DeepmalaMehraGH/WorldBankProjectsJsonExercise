{
 "cells": [
  {
   "cell_type": "markdown",
   "metadata": {},
   "source": [
    "\n",
    "# World Bank Projects (JSON Exercise)\n",
    "****\n",
    "**Goal::**\n",
    "Using the world bank projects dataset (in file 'dataset/world_bank_projects.json'), provide a solution for below queries.\n",
    "\n",
    "1. Find the 10 countries with most projects\n",
    "2. Find the top 10 major project themes (using column 'mjtheme_namecode')\n",
    "3. In point 2 above, there are some entries that have only the code and the name is missing. Create a dataframe with the missing names filled in."
   ]
  },
  {
   "cell_type": "markdown",
   "metadata": {},
   "source": [
    "### Let's start with loading the dataset and taking a look at the data\n"
   ]
  },
  {
   "cell_type": "code",
   "execution_count": 227,
   "metadata": {
    "collapsed": true
   },
   "outputs": [],
   "source": [
    "#Importing the pandas and json packages\n",
    "import pandas as pd\n",
    "import json\n",
    "from pandas.io.json import json_normalize\n",
    "from pandas.io.json import to_json"
   ]
  },
  {
   "cell_type": "code",
   "execution_count": 228,
   "metadata": {},
   "outputs": [],
   "source": [
    "# Read Json data into a DataFrame\n",
    "df = pd.read_json('dataset/world_bank_projects.json')"
   ]
  },
  {
   "cell_type": "code",
   "execution_count": 229,
   "metadata": {},
   "outputs": [
    {
     "data": {
      "text/plain": [
       "(500, 50)"
      ]
     },
     "execution_count": 229,
     "metadata": {},
     "output_type": "execute_result"
    }
   ],
   "source": [
    "df.shape"
   ]
  },
  {
   "cell_type": "code",
   "execution_count": 230,
   "metadata": {},
   "outputs": [
    {
     "data": {
      "text/html": [
       "<div>\n",
       "<style>\n",
       "    .dataframe thead tr:only-child th {\n",
       "        text-align: right;\n",
       "    }\n",
       "\n",
       "    .dataframe thead th {\n",
       "        text-align: left;\n",
       "    }\n",
       "\n",
       "    .dataframe tbody tr th {\n",
       "        vertical-align: top;\n",
       "    }\n",
       "</style>\n",
       "<table border=\"1\" class=\"dataframe\">\n",
       "  <thead>\n",
       "    <tr style=\"text-align: right;\">\n",
       "      <th></th>\n",
       "      <th>_id</th>\n",
       "      <th>approvalfy</th>\n",
       "      <th>board_approval_month</th>\n",
       "      <th>boardapprovaldate</th>\n",
       "      <th>borrower</th>\n",
       "      <th>closingdate</th>\n",
       "      <th>country_namecode</th>\n",
       "      <th>countrycode</th>\n",
       "      <th>countryname</th>\n",
       "      <th>countryshortname</th>\n",
       "      <th>...</th>\n",
       "      <th>sectorcode</th>\n",
       "      <th>source</th>\n",
       "      <th>status</th>\n",
       "      <th>supplementprojectflg</th>\n",
       "      <th>theme1</th>\n",
       "      <th>theme_namecode</th>\n",
       "      <th>themecode</th>\n",
       "      <th>totalamt</th>\n",
       "      <th>totalcommamt</th>\n",
       "      <th>url</th>\n",
       "    </tr>\n",
       "  </thead>\n",
       "  <tbody>\n",
       "    <tr>\n",
       "      <th>0</th>\n",
       "      <td>{'$oid': '52b213b38594d8a2be17c780'}</td>\n",
       "      <td>1999</td>\n",
       "      <td>November</td>\n",
       "      <td>2013-11-12T00:00:00Z</td>\n",
       "      <td>FEDERAL DEMOCRATIC REPUBLIC OF ETHIOPIA</td>\n",
       "      <td>2018-07-07T00:00:00Z</td>\n",
       "      <td>Federal Democratic Republic of Ethiopia!$!ET</td>\n",
       "      <td>ET</td>\n",
       "      <td>Federal Democratic Republic of Ethiopia</td>\n",
       "      <td>Ethiopia</td>\n",
       "      <td>...</td>\n",
       "      <td>ET,BS,ES,EP</td>\n",
       "      <td>IBRD</td>\n",
       "      <td>Active</td>\n",
       "      <td>N</td>\n",
       "      <td>{'Percent': 100, 'Name': 'Education for all'}</td>\n",
       "      <td>[{'code': '65', 'name': 'Education for all'}]</td>\n",
       "      <td>65</td>\n",
       "      <td>130000000</td>\n",
       "      <td>130000000</td>\n",
       "      <td>http://www.worldbank.org/projects/P129828/ethi...</td>\n",
       "    </tr>\n",
       "    <tr>\n",
       "      <th>1</th>\n",
       "      <td>{'$oid': '52b213b38594d8a2be17c781'}</td>\n",
       "      <td>2015</td>\n",
       "      <td>November</td>\n",
       "      <td>2013-11-04T00:00:00Z</td>\n",
       "      <td>GOVERNMENT OF TUNISIA</td>\n",
       "      <td>NaN</td>\n",
       "      <td>Republic of Tunisia!$!TN</td>\n",
       "      <td>TN</td>\n",
       "      <td>Republic of Tunisia</td>\n",
       "      <td>Tunisia</td>\n",
       "      <td>...</td>\n",
       "      <td>BZ,BS</td>\n",
       "      <td>IBRD</td>\n",
       "      <td>Active</td>\n",
       "      <td>N</td>\n",
       "      <td>{'Percent': 30, 'Name': 'Other economic manage...</td>\n",
       "      <td>[{'code': '24', 'name': 'Other economic manage...</td>\n",
       "      <td>54,24</td>\n",
       "      <td>0</td>\n",
       "      <td>4700000</td>\n",
       "      <td>http://www.worldbank.org/projects/P144674?lang=en</td>\n",
       "    </tr>\n",
       "    <tr>\n",
       "      <th>2</th>\n",
       "      <td>{'$oid': '52b213b38594d8a2be17c782'}</td>\n",
       "      <td>2014</td>\n",
       "      <td>November</td>\n",
       "      <td>2013-11-01T00:00:00Z</td>\n",
       "      <td>MINISTRY OF FINANCE AND ECONOMIC DEVEL</td>\n",
       "      <td>NaN</td>\n",
       "      <td>Tuvalu!$!TV</td>\n",
       "      <td>TV</td>\n",
       "      <td>Tuvalu</td>\n",
       "      <td>Tuvalu</td>\n",
       "      <td>...</td>\n",
       "      <td>TI</td>\n",
       "      <td>IBRD</td>\n",
       "      <td>Active</td>\n",
       "      <td>Y</td>\n",
       "      <td>{'Percent': 46, 'Name': 'Regional integration'}</td>\n",
       "      <td>[{'code': '47', 'name': 'Regional integration'...</td>\n",
       "      <td>52,81,25,47</td>\n",
       "      <td>6060000</td>\n",
       "      <td>6060000</td>\n",
       "      <td>http://www.worldbank.org/projects/P145310?lang=en</td>\n",
       "    </tr>\n",
       "    <tr>\n",
       "      <th>3</th>\n",
       "      <td>{'$oid': '52b213b38594d8a2be17c783'}</td>\n",
       "      <td>2014</td>\n",
       "      <td>October</td>\n",
       "      <td>2013-10-31T00:00:00Z</td>\n",
       "      <td>MIN. OF PLANNING AND INT'L COOPERATION</td>\n",
       "      <td>NaN</td>\n",
       "      <td>Republic of Yemen!$!RY</td>\n",
       "      <td>RY</td>\n",
       "      <td>Republic of Yemen</td>\n",
       "      <td>Yemen, Republic of</td>\n",
       "      <td>...</td>\n",
       "      <td>JB</td>\n",
       "      <td>IBRD</td>\n",
       "      <td>Active</td>\n",
       "      <td>N</td>\n",
       "      <td>{'Percent': 50, 'Name': 'Participation and civ...</td>\n",
       "      <td>[{'code': '57', 'name': 'Participation and civ...</td>\n",
       "      <td>59,57</td>\n",
       "      <td>0</td>\n",
       "      <td>1500000</td>\n",
       "      <td>http://www.worldbank.org/projects/P144665?lang=en</td>\n",
       "    </tr>\n",
       "    <tr>\n",
       "      <th>4</th>\n",
       "      <td>{'$oid': '52b213b38594d8a2be17c784'}</td>\n",
       "      <td>2014</td>\n",
       "      <td>October</td>\n",
       "      <td>2013-10-31T00:00:00Z</td>\n",
       "      <td>MINISTRY OF FINANCE</td>\n",
       "      <td>2019-04-30T00:00:00Z</td>\n",
       "      <td>Kingdom of Lesotho!$!LS</td>\n",
       "      <td>LS</td>\n",
       "      <td>Kingdom of Lesotho</td>\n",
       "      <td>Lesotho</td>\n",
       "      <td>...</td>\n",
       "      <td>FH,YW,YZ</td>\n",
       "      <td>IBRD</td>\n",
       "      <td>Active</td>\n",
       "      <td>N</td>\n",
       "      <td>{'Percent': 30, 'Name': 'Export development an...</td>\n",
       "      <td>[{'code': '45', 'name': 'Export development an...</td>\n",
       "      <td>41,45</td>\n",
       "      <td>13100000</td>\n",
       "      <td>13100000</td>\n",
       "      <td>http://www.worldbank.org/projects/P144933/seco...</td>\n",
       "    </tr>\n",
       "  </tbody>\n",
       "</table>\n",
       "<p>5 rows × 50 columns</p>\n",
       "</div>"
      ],
      "text/plain": [
       "                                    _id  approvalfy board_approval_month  \\\n",
       "0  {'$oid': '52b213b38594d8a2be17c780'}        1999             November   \n",
       "1  {'$oid': '52b213b38594d8a2be17c781'}        2015             November   \n",
       "2  {'$oid': '52b213b38594d8a2be17c782'}        2014             November   \n",
       "3  {'$oid': '52b213b38594d8a2be17c783'}        2014              October   \n",
       "4  {'$oid': '52b213b38594d8a2be17c784'}        2014              October   \n",
       "\n",
       "      boardapprovaldate                                 borrower  \\\n",
       "0  2013-11-12T00:00:00Z  FEDERAL DEMOCRATIC REPUBLIC OF ETHIOPIA   \n",
       "1  2013-11-04T00:00:00Z                    GOVERNMENT OF TUNISIA   \n",
       "2  2013-11-01T00:00:00Z   MINISTRY OF FINANCE AND ECONOMIC DEVEL   \n",
       "3  2013-10-31T00:00:00Z   MIN. OF PLANNING AND INT'L COOPERATION   \n",
       "4  2013-10-31T00:00:00Z                      MINISTRY OF FINANCE   \n",
       "\n",
       "            closingdate                              country_namecode  \\\n",
       "0  2018-07-07T00:00:00Z  Federal Democratic Republic of Ethiopia!$!ET   \n",
       "1                   NaN                      Republic of Tunisia!$!TN   \n",
       "2                   NaN                                   Tuvalu!$!TV   \n",
       "3                   NaN                        Republic of Yemen!$!RY   \n",
       "4  2019-04-30T00:00:00Z                       Kingdom of Lesotho!$!LS   \n",
       "\n",
       "  countrycode                              countryname    countryshortname  \\\n",
       "0          ET  Federal Democratic Republic of Ethiopia            Ethiopia   \n",
       "1          TN                      Republic of Tunisia             Tunisia   \n",
       "2          TV                                   Tuvalu              Tuvalu   \n",
       "3          RY                        Republic of Yemen  Yemen, Republic of   \n",
       "4          LS                       Kingdom of Lesotho             Lesotho   \n",
       "\n",
       "                         ...                           sectorcode source  \\\n",
       "0                        ...                          ET,BS,ES,EP   IBRD   \n",
       "1                        ...                                BZ,BS   IBRD   \n",
       "2                        ...                                   TI   IBRD   \n",
       "3                        ...                                   JB   IBRD   \n",
       "4                        ...                             FH,YW,YZ   IBRD   \n",
       "\n",
       "   status  supplementprojectflg  \\\n",
       "0  Active                     N   \n",
       "1  Active                     N   \n",
       "2  Active                     Y   \n",
       "3  Active                     N   \n",
       "4  Active                     N   \n",
       "\n",
       "                                              theme1  \\\n",
       "0      {'Percent': 100, 'Name': 'Education for all'}   \n",
       "1  {'Percent': 30, 'Name': 'Other economic manage...   \n",
       "2    {'Percent': 46, 'Name': 'Regional integration'}   \n",
       "3  {'Percent': 50, 'Name': 'Participation and civ...   \n",
       "4  {'Percent': 30, 'Name': 'Export development an...   \n",
       "\n",
       "                                      theme_namecode    themecode   totalamt  \\\n",
       "0      [{'code': '65', 'name': 'Education for all'}]           65  130000000   \n",
       "1  [{'code': '24', 'name': 'Other economic manage...        54,24          0   \n",
       "2  [{'code': '47', 'name': 'Regional integration'...  52,81,25,47    6060000   \n",
       "3  [{'code': '57', 'name': 'Participation and civ...        59,57          0   \n",
       "4  [{'code': '45', 'name': 'Export development an...        41,45   13100000   \n",
       "\n",
       "  totalcommamt                                                url  \n",
       "0    130000000  http://www.worldbank.org/projects/P129828/ethi...  \n",
       "1      4700000  http://www.worldbank.org/projects/P144674?lang=en  \n",
       "2      6060000  http://www.worldbank.org/projects/P145310?lang=en  \n",
       "3      1500000  http://www.worldbank.org/projects/P144665?lang=en  \n",
       "4     13100000  http://www.worldbank.org/projects/P144933/seco...  \n",
       "\n",
       "[5 rows x 50 columns]"
      ]
     },
     "execution_count": 230,
     "metadata": {},
     "output_type": "execute_result"
    }
   ],
   "source": [
    "df.head()"
   ]
  },
  {
   "cell_type": "markdown",
   "metadata": {},
   "source": [
    "<br>\n",
    "We can see that the dataset has 500 observations and 50 attributes. Let’s move ahead with our ** Query # 1 : Finding 10 countries with the most number of projects.**\n",
    "\n",
    "We will analyze the features first and decide which features could be useful for our solution. We also need to see if there is any missing value in chosen attributes and how we can take care of that."
   ]
  },
  {
   "cell_type": "code",
   "execution_count": 231,
   "metadata": {},
   "outputs": [
    {
     "name": "stdout",
     "output_type": "stream",
     "text": [
      "<class 'pandas.core.frame.DataFrame'>\n",
      "RangeIndex: 500 entries, 0 to 499\n",
      "Data columns (total 50 columns):\n",
      "_id                         500 non-null object\n",
      "approvalfy                  500 non-null int64\n",
      "board_approval_month        500 non-null object\n",
      "boardapprovaldate           500 non-null object\n",
      "borrower                    485 non-null object\n",
      "closingdate                 370 non-null object\n",
      "country_namecode            500 non-null object\n",
      "countrycode                 500 non-null object\n",
      "countryname                 500 non-null object\n",
      "countryshortname            500 non-null object\n",
      "docty                       446 non-null object\n",
      "envassesmentcategorycode    430 non-null object\n",
      "grantamt                    500 non-null int64\n",
      "ibrdcommamt                 500 non-null int64\n",
      "id                          500 non-null object\n",
      "idacommamt                  500 non-null int64\n",
      "impagency                   472 non-null object\n",
      "lendinginstr                495 non-null object\n",
      "lendinginstrtype            495 non-null object\n",
      "lendprojectcost             500 non-null int64\n",
      "majorsector_percent         500 non-null object\n",
      "mjsector_namecode           500 non-null object\n",
      "mjtheme                     491 non-null object\n",
      "mjtheme_namecode            500 non-null object\n",
      "mjthemecode                 500 non-null object\n",
      "prodline                    500 non-null object\n",
      "prodlinetext                500 non-null object\n",
      "productlinetype             500 non-null object\n",
      "project_abstract            362 non-null object\n",
      "project_name                500 non-null object\n",
      "projectdocs                 446 non-null object\n",
      "projectfinancialtype        500 non-null object\n",
      "projectstatusdisplay        500 non-null object\n",
      "regionname                  500 non-null object\n",
      "sector                      500 non-null object\n",
      "sector1                     500 non-null object\n",
      "sector2                     380 non-null object\n",
      "sector3                     265 non-null object\n",
      "sector4                     174 non-null object\n",
      "sector_namecode             500 non-null object\n",
      "sectorcode                  500 non-null object\n",
      "source                      500 non-null object\n",
      "status                      500 non-null object\n",
      "supplementprojectflg        498 non-null object\n",
      "theme1                      500 non-null object\n",
      "theme_namecode              491 non-null object\n",
      "themecode                   491 non-null object\n",
      "totalamt                    500 non-null int64\n",
      "totalcommamt                500 non-null int64\n",
      "url                         500 non-null object\n",
      "dtypes: int64(7), object(43)\n",
      "memory usage: 195.4+ KB\n"
     ]
    }
   ],
   "source": [
    "# check the DataFrame details\n",
    "df.info()"
   ]
  },
  {
   "cell_type": "code",
   "execution_count": 232,
   "metadata": {},
   "outputs": [
    {
     "data": {
      "text/plain": [
       "countryname     500\n",
       "project_name    500\n",
       "dtype: int64"
      ]
     },
     "execution_count": 232,
     "metadata": {},
     "output_type": "execute_result"
    }
   ],
   "source": [
    "# Find total number of countries and projects\n",
    "df[['countryname','project_name']].count()"
   ]
  },
  {
   "cell_type": "code",
   "execution_count": 233,
   "metadata": {},
   "outputs": [
    {
     "data": {
      "text/plain": [
       "countryname     118\n",
       "project_name    500\n",
       "dtype: int64"
      ]
     },
     "execution_count": 233,
     "metadata": {},
     "output_type": "execute_result"
    }
   ],
   "source": [
    "# Find unique number of countries and projects\n",
    "df[['countryname', 'project_name']].nunique()"
   ]
  },
  {
   "cell_type": "markdown",
   "metadata": {},
   "source": [
    "It looks like columns **countryname** and **project_name** can be used here. These columns have no missing values either. No data imputing is needed and let’s  straight away go to finding  the solution. \n",
    "\n",
    "One interesting part to note here is that each observation represents a project. There are 500 projects which involves 118 countries. We need to find out top 10 countries with most projects. We can do this by grouping the data by 'countryname' and aggregate it on count of rows. Sorting it in descending order would give us the top countries.\n",
    "\n",
    "Another way to get the same result would be to use value_counts() on 'countryname'.\n",
    "\n",
    "Lets see both the approaches now.\n",
    "<br>"
   ]
  },
  {
   "cell_type": "code",
   "execution_count": 234,
   "metadata": {},
   "outputs": [
    {
     "data": {
      "text/plain": [
       "countryname\n",
       "People's Republic of China         19\n",
       "Republic of Indonesia              19\n",
       "Socialist Republic of Vietnam      17\n",
       "Republic of India                  16\n",
       "Republic of Yemen                  13\n",
       "Nepal                              12\n",
       "People's Republic of Bangladesh    12\n",
       "Kingdom of Morocco                 12\n",
       "Africa                             11\n",
       "Republic of Mozambique             11\n",
       "Name: project_name, dtype: int64"
      ]
     },
     "execution_count": 234,
     "metadata": {},
     "output_type": "execute_result"
    }
   ],
   "source": [
    "#Using groupby\n",
    "top_countries = df.groupby('countryname')['project_name'].count().sort_values(ascending = False)\n",
    "top_countries.head(10)"
   ]
  },
  {
   "cell_type": "code",
   "execution_count": 235,
   "metadata": {
    "scrolled": false
   },
   "outputs": [
    {
     "data": {
      "text/plain": [
       "Republic of Indonesia              19\n",
       "People's Republic of China         19\n",
       "Socialist Republic of Vietnam      17\n",
       "Republic of India                  16\n",
       "Republic of Yemen                  13\n",
       "People's Republic of Bangladesh    12\n",
       "Nepal                              12\n",
       "Kingdom of Morocco                 12\n",
       "Africa                             11\n",
       "Republic of Mozambique             11\n",
       "Name: countryname, dtype: int64"
      ]
     },
     "execution_count": 235,
     "metadata": {},
     "output_type": "execute_result"
    }
   ],
   "source": [
    "#Using value_counts\n",
    "df['countryname'].value_counts().sort_values(ascending = False).head(10)"
   ]
  },
  {
   "cell_type": "markdown",
   "metadata": {},
   "source": [
    "### Query # 2 : Find the top 10 major project themes (using column 'mjtheme_namecode') \n",
    "\n",
    "As we can see that column **mjtheme_namecode** is a list of json objects itself, we would need to flatten it into a dataframe in order to work on it."
   ]
  },
  {
   "cell_type": "code",
   "execution_count": 237,
   "metadata": {},
   "outputs": [],
   "source": [
    "# function to flatten the theme json data\n",
    "def flatten_theme():\n",
    "    themeJsonList = df['mjtheme_namecode'].tolist()\n",
    "    dfs=[json_normalize(themeJson)for themeJson in themeJsonList]\n",
    "    return pd.concat(dfs, ignore_index=True)"
   ]
  },
  {
   "cell_type": "code",
   "execution_count": 238,
   "metadata": {},
   "outputs": [
    {
     "data": {
      "text/html": [
       "<div>\n",
       "<style>\n",
       "    .dataframe thead tr:only-child th {\n",
       "        text-align: right;\n",
       "    }\n",
       "\n",
       "    .dataframe thead th {\n",
       "        text-align: left;\n",
       "    }\n",
       "\n",
       "    .dataframe tbody tr th {\n",
       "        vertical-align: top;\n",
       "    }\n",
       "</style>\n",
       "<table border=\"1\" class=\"dataframe\">\n",
       "  <thead>\n",
       "    <tr style=\"text-align: right;\">\n",
       "      <th></th>\n",
       "      <th>code</th>\n",
       "      <th>name</th>\n",
       "    </tr>\n",
       "  </thead>\n",
       "  <tbody>\n",
       "    <tr>\n",
       "      <th>0</th>\n",
       "      <td>8</td>\n",
       "      <td>Human development</td>\n",
       "    </tr>\n",
       "    <tr>\n",
       "      <th>1</th>\n",
       "      <td>11</td>\n",
       "      <td></td>\n",
       "    </tr>\n",
       "    <tr>\n",
       "      <th>2</th>\n",
       "      <td>1</td>\n",
       "      <td>Economic management</td>\n",
       "    </tr>\n",
       "    <tr>\n",
       "      <th>3</th>\n",
       "      <td>6</td>\n",
       "      <td>Social protection and risk management</td>\n",
       "    </tr>\n",
       "    <tr>\n",
       "      <th>4</th>\n",
       "      <td>5</td>\n",
       "      <td>Trade and integration</td>\n",
       "    </tr>\n",
       "  </tbody>\n",
       "</table>\n",
       "</div>"
      ],
      "text/plain": [
       "  code                                   name\n",
       "0    8                      Human development\n",
       "1   11                                       \n",
       "2    1                    Economic management\n",
       "3    6  Social protection and risk management\n",
       "4    5                  Trade and integration"
      ]
     },
     "execution_count": 238,
     "metadata": {},
     "output_type": "execute_result"
    }
   ],
   "source": [
    "#flatten the theme and create a dataframe\n",
    "theme_df=flatten_theme_test()\n",
    "theme_df.head()"
   ]
  },
  {
   "cell_type": "code",
   "execution_count": 239,
   "metadata": {},
   "outputs": [
    {
     "name": "stdout",
     "output_type": "stream",
     "text": [
      "<class 'pandas.core.frame.DataFrame'>\n",
      "RangeIndex: 1499 entries, 0 to 1498\n",
      "Data columns (total 2 columns):\n",
      "code    1499 non-null object\n",
      "name    1499 non-null object\n",
      "dtypes: object(2)\n",
      "memory usage: 23.5+ KB\n"
     ]
    }
   ],
   "source": [
    "# Check for the NaN values\n",
    "theme_df.info()"
   ]
  },
  {
   "cell_type": "code",
   "execution_count": 240,
   "metadata": {},
   "outputs": [
    {
     "name": "stdout",
     "output_type": "stream",
     "text": [
      "blank code:\n",
      "code    0\n",
      "name    0\n",
      "dtype: int64\n",
      "\n",
      "blank name:\n",
      "code    122\n",
      "name    122\n",
      "dtype: int64\n"
     ]
    }
   ],
   "source": [
    "#Check for the blank code and name\n",
    "print('blank code:')\n",
    "print(theme_df[theme_df.code==''].count())\n",
    "print()\n",
    "print('blank name:')\n",
    "print(theme_df[theme_df.name==''].count())"
   ]
  },
  {
   "cell_type": "markdown",
   "metadata": {},
   "source": [
    "\n",
    "We can see there are 122 missing entries for name. For now, we will ignore the blank names while generating our report. In query # 3, we will see how to handle these missing names.\n",
    "</br>"
   ]
  },
  {
   "cell_type": "code",
   "execution_count": 241,
   "metadata": {},
   "outputs": [
    {
     "data": {
      "text/plain": [
       "Environment and natural resources management    223\n",
       "Rural development                               202\n",
       "Human development                               197\n",
       "Public sector governance                        184\n",
       "Social protection and risk management           158\n",
       "Financial and private sector development        130\n",
       "Social dev/gender/inclusion                     119\n",
       "Trade and integration                            72\n",
       "Urban development                                47\n",
       "Economic management                              33\n",
       "Name: name, dtype: int64"
      ]
     },
     "execution_count": 241,
     "metadata": {},
     "output_type": "execute_result"
    }
   ],
   "source": [
    "# Get the top 10 theme names\n",
    "topThemes = theme_df[theme_df.name != ''].name.value_counts().sort_values(ascending = False)\n",
    "topThemes.head(10)"
   ]
  },
  {
   "cell_type": "markdown",
   "metadata": {},
   "source": [
    "### Query # 3 : In query 2 above, there are some theme observations where the name is missing. Create a dataframe with the missing names filled in.\n",
    "\n",
    "My approach would be finding out relation between code and name. If each code has a unique non-blank project name, we can easily fill the missing project names based on the code."
   ]
  },
  {
   "cell_type": "code",
   "execution_count": 242,
   "metadata": {},
   "outputs": [
    {
     "data": {
      "text/plain": [
       "11"
      ]
     },
     "execution_count": 242,
     "metadata": {},
     "output_type": "execute_result"
    }
   ],
   "source": [
    "# find count of unique code \n",
    "theme_df['code'].nunique()"
   ]
  },
  {
   "cell_type": "markdown",
   "metadata": {},
   "source": [
    "We have 11 codes for the project themes. Let's find out the corresponding project names."
   ]
  },
  {
   "cell_type": "code",
   "execution_count": 243,
   "metadata": {},
   "outputs": [
    {
     "data": {
      "text/html": [
       "<div>\n",
       "<style>\n",
       "    .dataframe thead tr:only-child th {\n",
       "        text-align: right;\n",
       "    }\n",
       "\n",
       "    .dataframe thead th {\n",
       "        text-align: left;\n",
       "    }\n",
       "\n",
       "    .dataframe tbody tr th {\n",
       "        vertical-align: top;\n",
       "    }\n",
       "</style>\n",
       "<table border=\"1\" class=\"dataframe\">\n",
       "  <thead>\n",
       "    <tr style=\"text-align: right;\">\n",
       "      <th></th>\n",
       "      <th>code</th>\n",
       "      <th>name</th>\n",
       "    </tr>\n",
       "  </thead>\n",
       "  <tbody>\n",
       "    <tr>\n",
       "      <th>0</th>\n",
       "      <td>8</td>\n",
       "      <td>Human development</td>\n",
       "    </tr>\n",
       "    <tr>\n",
       "      <th>2</th>\n",
       "      <td>1</td>\n",
       "      <td>Economic management</td>\n",
       "    </tr>\n",
       "    <tr>\n",
       "      <th>3</th>\n",
       "      <td>6</td>\n",
       "      <td>Social protection and risk management</td>\n",
       "    </tr>\n",
       "    <tr>\n",
       "      <th>4</th>\n",
       "      <td>5</td>\n",
       "      <td>Trade and integration</td>\n",
       "    </tr>\n",
       "    <tr>\n",
       "      <th>5</th>\n",
       "      <td>2</td>\n",
       "      <td>Public sector governance</td>\n",
       "    </tr>\n",
       "    <tr>\n",
       "      <th>6</th>\n",
       "      <td>11</td>\n",
       "      <td>Environment and natural resources management</td>\n",
       "    </tr>\n",
       "    <tr>\n",
       "      <th>8</th>\n",
       "      <td>7</td>\n",
       "      <td>Social dev/gender/inclusion</td>\n",
       "    </tr>\n",
       "    <tr>\n",
       "      <th>11</th>\n",
       "      <td>4</td>\n",
       "      <td>Financial and private sector development</td>\n",
       "    </tr>\n",
       "    <tr>\n",
       "      <th>18</th>\n",
       "      <td>10</td>\n",
       "      <td>Rural development</td>\n",
       "    </tr>\n",
       "    <tr>\n",
       "      <th>53</th>\n",
       "      <td>9</td>\n",
       "      <td>Urban development</td>\n",
       "    </tr>\n",
       "    <tr>\n",
       "      <th>252</th>\n",
       "      <td>3</td>\n",
       "      <td>Rule of law</td>\n",
       "    </tr>\n",
       "  </tbody>\n",
       "</table>\n",
       "</div>"
      ],
      "text/plain": [
       "    code                                          name\n",
       "0      8                             Human development\n",
       "2      1                           Economic management\n",
       "3      6         Social protection and risk management\n",
       "4      5                         Trade and integration\n",
       "5      2                      Public sector governance\n",
       "6     11  Environment and natural resources management\n",
       "8      7                   Social dev/gender/inclusion\n",
       "11     4      Financial and private sector development\n",
       "18    10                             Rural development\n",
       "53     9                             Urban development\n",
       "252    3                                   Rule of law"
      ]
     },
     "execution_count": 243,
     "metadata": {},
     "output_type": "execute_result"
    }
   ],
   "source": [
    "# Find the unique combination of code and name \n",
    "unique_theme_df = theme_df.drop_duplicates()\n",
    "unique_theme_df = unique_theme_df[unique_theme_df.name != '']\n",
    "\n",
    "unique_theme_df"
   ]
  },
  {
   "cell_type": "markdown",
   "metadata": {},
   "source": [
    "Now we have a new DataFrame with unique code & name combination. Let's go ahead and merge the two dataframes to fill in all the blank project names."
   ]
  },
  {
   "cell_type": "code",
   "execution_count": 244,
   "metadata": {},
   "outputs": [
    {
     "data": {
      "text/html": [
       "<div>\n",
       "<style>\n",
       "    .dataframe thead tr:only-child th {\n",
       "        text-align: right;\n",
       "    }\n",
       "\n",
       "    .dataframe thead th {\n",
       "        text-align: left;\n",
       "    }\n",
       "\n",
       "    .dataframe tbody tr th {\n",
       "        vertical-align: top;\n",
       "    }\n",
       "</style>\n",
       "<table border=\"1\" class=\"dataframe\">\n",
       "  <thead>\n",
       "    <tr style=\"text-align: right;\">\n",
       "      <th></th>\n",
       "      <th>code</th>\n",
       "      <th>name</th>\n",
       "    </tr>\n",
       "  </thead>\n",
       "  <tbody>\n",
       "    <tr>\n",
       "      <th>0</th>\n",
       "      <td>8</td>\n",
       "      <td>Human development</td>\n",
       "    </tr>\n",
       "    <tr>\n",
       "      <th>1</th>\n",
       "      <td>8</td>\n",
       "      <td>Human development</td>\n",
       "    </tr>\n",
       "    <tr>\n",
       "      <th>2</th>\n",
       "      <td>8</td>\n",
       "      <td>Human development</td>\n",
       "    </tr>\n",
       "    <tr>\n",
       "      <th>3</th>\n",
       "      <td>8</td>\n",
       "      <td>Human development</td>\n",
       "    </tr>\n",
       "    <tr>\n",
       "      <th>4</th>\n",
       "      <td>8</td>\n",
       "      <td>Human development</td>\n",
       "    </tr>\n",
       "  </tbody>\n",
       "</table>\n",
       "</div>"
      ],
      "text/plain": [
       "  code               name\n",
       "0    8  Human development\n",
       "1    8  Human development\n",
       "2    8  Human development\n",
       "3    8  Human development\n",
       "4    8  Human development"
      ]
     },
     "execution_count": 244,
     "metadata": {},
     "output_type": "execute_result"
    }
   ],
   "source": [
    "filled_theme_df = pd.merge(theme_df, unique_theme_df, on='code', suffixes=('_x','')).drop('name_x' , axis=1)\n",
    "filled_theme_df.head()"
   ]
  },
  {
   "cell_type": "code",
   "execution_count": 245,
   "metadata": {},
   "outputs": [
    {
     "data": {
      "text/plain": [
       "Environment and natural resources management    250\n",
       "Rural development                               216\n",
       "Human development                               210\n",
       "Public sector governance                        199\n",
       "Social protection and risk management           168\n",
       "Financial and private sector development        146\n",
       "Social dev/gender/inclusion                     130\n",
       "Trade and integration                            77\n",
       "Urban development                                50\n",
       "Economic management                              38\n",
       "Rule of law                                      15\n",
       "Name: name, dtype: int64"
      ]
     },
     "execution_count": 245,
     "metadata": {},
     "output_type": "execute_result"
    }
   ],
   "source": [
    "filled_theme_df['name'].value_counts()"
   ]
  },
  {
   "cell_type": "markdown",
   "metadata": {},
   "source": [
    "These are the top themes after we handled the missing theme names"
   ]
  },
  {
   "cell_type": "code",
   "execution_count": 246,
   "metadata": {},
   "outputs": [
    {
     "data": {
      "text/plain": [
       "code    0\n",
       "name    0\n",
       "dtype: int64"
      ]
     },
     "execution_count": 246,
     "metadata": {},
     "output_type": "execute_result"
    }
   ],
   "source": [
    "# Verifying that there are no more blank values in theme name\n",
    "filled_theme_df[filled_theme_df.name == ''].count()"
   ]
  },
  {
   "cell_type": "markdown",
   "metadata": {},
   "source": [
    "With this, we have solution to all our 3 queries on the World Bank Projects dataset."
   ]
  }
 ],
 "metadata": {
  "kernelspec": {
   "display_name": "Python 3",
   "language": "python",
   "name": "python3"
  },
  "language_info": {
   "codemirror_mode": {
    "name": "ipython",
    "version": 3
   },
   "file_extension": ".py",
   "mimetype": "text/x-python",
   "name": "python",
   "nbconvert_exporter": "python",
   "pygments_lexer": "ipython3",
   "version": "3.6.1"
  }
 },
 "nbformat": 4,
 "nbformat_minor": 2
}
